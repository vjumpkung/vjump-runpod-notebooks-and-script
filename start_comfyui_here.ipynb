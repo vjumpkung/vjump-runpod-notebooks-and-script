{
 "cells": [
  {
   "cell_type": "markdown",
   "id": "72c35bd1-0bd7-4479-acc4-b33fcacaff7d",
   "metadata": {
    "editable": true,
    "slideshow": {
     "slide_type": ""
    },
    "tags": []
   },
   "source": [
    "# ComfyUI Runpod Template\n",
    "\n",
    "- ใช้สำหรับการเริ่ม ComfyUI เท่านั้น"
   ]
  },
  {
   "cell_type": "code",
   "execution_count": null,
   "id": "ac297c13-32da-4858-92be-bca291419105",
   "metadata": {
    "editable": false,
    "slideshow": {
     "slide_type": ""
    },
    "tags": []
   },
   "outputs": [],
   "source": [
    "from ui.main import *"
   ]
  },
  {
   "cell_type": "code",
   "execution_count": null,
   "id": "4915f9f4-1a0d-4611-90d4-cff9f4c648c9",
   "metadata": {
    "editable": true,
    "slideshow": {
     "slide_type": ""
    },
    "tags": []
   },
   "outputs": [],
   "source": [
    "launch_comfyui()"
   ]
  }
 ],
 "metadata": {
  "kernelspec": {
   "display_name": "Python 3 (ipykernel)",
   "language": "python",
   "name": "python3"
  },
  "language_info": {
   "codemirror_mode": {
    "name": "ipython",
    "version": 3
   },
   "file_extension": ".py",
   "mimetype": "text/x-python",
   "name": "python",
   "nbconvert_exporter": "python",
   "pygments_lexer": "ipython3",
   "version": "3.11.11"
  }
 },
 "nbformat": 4,
 "nbformat_minor": 5
}
