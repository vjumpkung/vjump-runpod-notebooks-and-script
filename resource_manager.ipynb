{
 "cells": [
  {
   "attachments": {
    "b091a0a5-b894-4981-9b40-b96c8fe659d5.png": {
     "image/png": "[encoded data removed]"
    }
   },
   "cell_type": "markdown",
   "id": "2c1f12f8-1613-4170-ba07-d7dcce05da8d",
   "metadata": {
    "editable": false,
    "slideshow": {
     "slide_type": ""
    },
    "tags": []
   },
   "source": [
    "# ComfyUI Model Manager \n",
    "\n",
    "## Changelog\n",
    "\n",
    "20250217\n",
    "\n",
    "- initial release\n",
    "\n",
    "## วิธีการใช้\n",
    "\n",
    "1. อัปโหลด dataset โดยให้ทำเป็น .zip แล้วลากไฟล์ไปที่ด้านซ้ายที่เป็น file manager หรือกดปุ่ม ![image.png](attachment:b091a0a5-b894-4981-9b40-b96c8fe659d5.png) หรือ ใช้ช่อง download dataset\n",
    "\n",
    "2. กด Run -> Run All Cells\n",
    "\n",
    "3. Download Checkpoints, VAE, LoRA, และอื่นๆ ให้ครบถ้วนก่อน โดยสามารถโหลดได้ผ่าน Google Drive, CivitAI หรือ Huggingface\n",
    "\n",
    "4. กดเริ่มใช้งานได้ผ่าน start_comfyui_here.ipynb"
   ]
  },
  {
   "cell_type": "markdown",
   "id": "e81c311f-7798-421b-b998-61a7b86a7f74",
   "metadata": {},
   "source": [
    "### Initialization (กด run อันนี้ก่อนเสมอ)"
   ]
  },
  {
   "cell_type": "code",
   "execution_count": 1,
   "id": "02be4cc5-bec1-4096-a1c1-796e8310c247",
   "metadata": {
    "editable": false,
    "slideshow": {
     "slide_type": ""
    },
    "tags": []
   },
   "outputs": [
    {
     "data": {
      "application/vnd.jupyter.widget-view+json": {
       "model_id": "b6bc7b97cb9e4852b5470df12eba6f3d",
       "version_major": 2,
       "version_minor": 0
      },
      "text/plain": [
       "HBox(children=(HTML(value='<h3 style=\"width: 500px;\">ไม่พบ CUDA โปรดสร้าง Pod ใหม่</h3>'),))"
      ]
     },
     "metadata": {},
     "output_type": "display_data"
    },
    {
     "name": "stdout",
     "output_type": "stream",
     "text": [
      "\n"
     ]
    },
    {
     "data": {
      "application/vnd.jupyter.widget-view+json": {
       "model_id": "10b2bbd58922495183d0831a4d14f7d7",
       "version_major": 2,
       "version_minor": 0
      },
      "text/plain": [
       "HBox(children=(Label(value='CivitAI API Key', layout=Layout(width='100px')), Text(value='', layout=Layout(widt…"
      ]
     },
     "metadata": {},
     "output_type": "display_data"
    },
    {
     "name": "stdout",
     "output_type": "stream",
     "text": [
      "\n"
     ]
    },
    {
     "data": {
      "application/vnd.jupyter.widget-view+json": {
       "model_id": "963810a42fe544e18c526e86f3cbacc5",
       "version_major": 2,
       "version_minor": 0
      },
      "text/plain": [
       "HBox(children=(Label(value='Huggingface API Key', layout=Layout(width='100px')), Text(value='', layout=Layout(…"
      ]
     },
     "metadata": {},
     "output_type": "display_data"
    },
    {
     "data": {
      "application/vnd.jupyter.widget-view+json": {
       "model_id": "1d6c139c67bf454f9a913a6dba97cdf0",
       "version_major": 2,
       "version_minor": 0
      },
      "text/plain": [
       "Button(button_style='primary', description='Save', style=ButtonStyle())"
      ]
     },
     "metadata": {},
     "output_type": "display_data"
    },
    {
     "data": {
      "application/vnd.jupyter.widget-view+json": {
       "model_id": "739ac8941df14dd6a4099b8b8bbe92df",
       "version_major": 2,
       "version_minor": 0
      },
      "text/plain": [
       "Output()"
      ]
     },
     "metadata": {},
     "output_type": "display_data"
    }
   ],
   "source": [
    "from ui.main import *\n",
    "setup()"
   ]
  },
  {
   "cell_type": "code",
   "execution_count": 2,
   "id": "b9f61ae2-c68a-4ea2-969f-80ff3d545d33",
   "metadata": {
    "editable": false,
    "slideshow": {
     "slide_type": ""
    },
    "tags": []
   },
   "outputs": [
    {
     "data": {
      "application/vnd.jupyter.widget-view+json": {
       "model_id": "f0a503e28942446ca01a1bc373600ce5",
       "version_major": 2,
       "version_minor": 0
      },
      "text/plain": [
       "HTML(value='<h4 style=\"width: auto;\">Download Model จาก Google Drive, CivitAI หรือ Huggingface</h4>')"
      ]
     },
     "metadata": {},
     "output_type": "display_data"
    },
    {
     "data": {
      "application/vnd.jupyter.widget-view+json": {
       "model_id": "19b83bc5d7d94d2498b58885da0b546c",
       "version_major": 2,
       "version_minor": 0
      },
      "text/plain": [
       "Label(value='Please Select type (โปรดเลือกประเภทของ Model ก่อน Download)')"
      ]
     },
     "metadata": {},
     "output_type": "display_data"
    },
    {
     "data": {
      "application/vnd.jupyter.widget-view+json": {
       "model_id": "212ea2c84e764dedba06602795da7ad7",
       "version_major": 2,
       "version_minor": 0
      },
      "text/plain": [
       "HBox(children=(Label(value='Model Type (ประเภทของโมเดล) :', layout=Layout(width='auto')), Dropdown(index=4, op…"
      ]
     },
     "metadata": {},
     "output_type": "display_data"
    },
    {
     "data": {
      "application/vnd.jupyter.widget-view+json": {
       "model_id": "bcad165a84d841558436d357735411cf",
       "version_major": 2,
       "version_minor": 0
      },
      "text/plain": [
       "HBox(children=(Label(value='Model url:'), Text(value='', layout=Layout(height='40px', width='400px'), placehol…"
      ]
     },
     "metadata": {},
     "output_type": "display_data"
    },
    {
     "data": {
      "application/vnd.jupyter.widget-view+json": {
       "model_id": "21a12c65ea544fbfb9cfc3191826cc2d",
       "version_major": 2,
       "version_minor": 0
      },
      "text/plain": [
       "Button(button_style='primary', description='Download', style=ButtonStyle())"
      ]
     },
     "metadata": {},
     "output_type": "display_data"
    },
    {
     "data": {
      "application/vnd.jupyter.widget-view+json": {
       "model_id": "50d0b7cc921b4f359e11d237f0241d5f",
       "version_major": 2,
       "version_minor": 0
      },
      "text/plain": [
       "Output()"
      ]
     },
     "metadata": {},
     "output_type": "display_data"
    }
   ],
   "source": [
    "download_models()"
   ]
  },
  {
   "cell_type": "markdown",
   "id": "5e124a90-2c36-4f12-9fa1-0e24c5bd8156",
   "metadata": {
    "editable": true,
    "slideshow": {
     "slide_type": ""
    },
    "tags": []
   },
   "source": [
    "## หากพบปัญหาสามารถแจ้งได้ที่ \n",
    "\n",
    "facebook : https://www.facebook.com/chanrich.pisitjing/"
   ]
  }
 ],
 "metadata": {
  "kernelspec": {
   "display_name": "Python 3 (ipykernel)",
   "language": "python",
   "name": "python3"
  },
  "language_info": {
   "codemirror_mode": {
    "name": "ipython",
    "version": 3
   },
   "file_extension": ".py",
   "mimetype": "text/x-python",
   "name": "python",
   "nbconvert_exporter": "python",
   "pygments_lexer": "ipython3",
   "version": "3.11.11"
  }
 },
 "nbformat": 4,
 "nbformat_minor": 5
}
