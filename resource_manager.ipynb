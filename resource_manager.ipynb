{
 "cells": [
  {
   "attachments": {},
   "cell_type": "markdown",
   "id": "2c1f12f8-1613-4170-ba07-d7dcce05da8d",
   "metadata": {
    "editable": true,
    "slideshow": {
     "slide_type": ""
    },
    "tags": []
   },
   "source": [
    "# ComfyUI Model Manager \n",
    "\n",
    "## Changelog\n",
    "\n",
    "20250217\n",
    "\n",
    "- initial release\n",
    "\n",
    "## วิธีการใช้\n",
    "\n",
    "1. กด Run -> Run All Cells\n",
    "\n",
    "3. Download Checkpoints, VAE, LoRA, และอื่นๆ ให้ครบถ้วนก่อน โดยสามารถโหลดได้ผ่าน Google Drive, CivitAI หรือ Huggingface\n",
    "\n",
    "4. กดเริ่มใช้งานได้ผ่าน start_comfyui_here.ipynb"
   ]
  },
  {
   "cell_type": "markdown",
   "id": "e81c311f-7798-421b-b998-61a7b86a7f74",
   "metadata": {
    "editable": true,
    "slideshow": {
     "slide_type": ""
    },
    "tags": []
   },
   "source": [
    "### Initialization (กด run อันนี้ก่อนเสมอ)"
   ]
  },
  {
   "cell_type": "code",
   "execution_count": null,
   "id": "02be4cc5-bec1-4096-a1c1-796e8310c247",
   "metadata": {
    "editable": false,
    "slideshow": {
     "slide_type": ""
    },
    "tags": []
   },
   "outputs": [],
   "source": [
    "from ui.main import *\n",
    "setup()"
   ]
  },
  {
   "cell_type": "code",
   "execution_count": null,
   "id": "fbcd5710-c78d-4dbd-b46c-d73e296cee8a",
   "metadata": {},
   "outputs": [],
   "source": [
    "select_download_model_list()"
   ]
  },
  {
   "cell_type": "code",
   "execution_count": null,
   "id": "b9f61ae2-c68a-4ea2-969f-80ff3d545d33",
   "metadata": {
    "editable": false,
    "slideshow": {
     "slide_type": ""
    },
    "tags": []
   },
   "outputs": [],
   "source": [
    "download_models()"
   ]
  },
  {
   "cell_type": "markdown",
   "id": "5e124a90-2c36-4f12-9fa1-0e24c5bd8156",
   "metadata": {
    "editable": true,
    "slideshow": {
     "slide_type": ""
    },
    "tags": []
   },
   "source": [
    "## หากพบปัญหาสามารถแจ้งได้ที่ \n",
    "\n",
    "facebook : https://www.facebook.com/chanrich.pisitjing/"
   ]
  }
 ],
 "metadata": {
  "kernelspec": {
   "display_name": "Python 3 (ipykernel)",
   "language": "python",
   "name": "python3"
  },
  "language_info": {
   "codemirror_mode": {
    "name": "ipython",
    "version": 3
   },
   "file_extension": ".py",
   "mimetype": "text/x-python",
   "name": "python",
   "nbconvert_exporter": "python",
   "pygments_lexer": "ipython3",
   "version": "3.11.11"
  }
 },
 "nbformat": 4,
 "nbformat_minor": 5
}
