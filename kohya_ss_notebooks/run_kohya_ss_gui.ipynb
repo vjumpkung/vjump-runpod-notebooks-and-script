{
 "cells": [
  {
   "attachments": {
    "b091a0a5-b894-4981-9b40-b96c8fe659d5.png": {
     "image/png": "[encoded data removed]"
    }
   },
   "cell_type": "markdown",
   "id": "2c1f12f8-1613-4170-ba07-d7dcce05da8d",
   "metadata": {},
   "source": [
    "# kohya-ss GUI v24.3.0 Docker Image \n",
    "\n",
    "Docker Image นี้ใช้สำหรับ Runpod, Paperspace และ platform อื่นๆ ที่สามารถใช้ docker container ได้ จัดทำโดย vjumpkung\n",
    "\n",
    "## Changelog\n",
    "\n",
    "UPDATE 20250207\n",
    "\n",
    "- ย้าย Folder checkpoints ไปที่ stable_diffusion_ckpt เนื่องจากไม่สามารถเปิด folder ได้\n",
    "\n",
    "UPDATE 20250206\n",
    "\n",
    "- รองรับการ download dataset เป็นไฟล์ .zip จาก huggingface หรือ Google Drive (โดยให้เปิดไฟล์นั้นเป็น Anyone with Link ก่อนทำการ download) \n",
    "\n",
    "## วิธีการใช้\n",
    "\n",
    "1. อัปโหลด dataset โดยให้ทำเป็น .zip แล้วลากไฟล์ไปที่ด้านซ้ายที่เป็น file manager หรือกดปุ่ม ![image.png](attachment:b091a0a5-b894-4981-9b40-b96c8fe659d5.png) หรือ ใช้ช่อง download dataset\n",
    "\n",
    "2. กด Run -> Run All Cells\n",
    "\n",
    "3. Download Model สำหรับที่ใช้ในการเทรน LoRA ซึ่งสามารถเลือกได้ตามที่ต้องการ\n",
    "\n",
    "4. กดเริ่มใช้งานได้ผ่าน \"เริ่มโปรแกรม Kohya-SS GUI\"\n",
    "\n",
    "## รายชื่อ Model ที่มีให้ Download\n",
    "\n",
    "### Stable Diffusion 1.5\n",
    "\n",
    "- Stable Diffusion 1.5 (Base Model)\n",
    "- AnyLoRA (สำหรับเทรน Anime)\n",
    "- ChilloutMix (สำหรับ Realistic หน้าเอเชีย)\n",
    "\n",
    "### SDXL\n",
    "\n",
    "- SDXL V1.0 (Base Model)\n",
    "- Juggernaut XL XI (สำหรับ Realistic)\n",
    "- animagine-xl-3.1 (สำหรับ Anime)\n",
    "\n",
    "### SDXL Fine-Tuned\n",
    "\n",
    "- Pony Diffusion V6 XL (Pony)\n",
    "- Illustrious-XL-v0.1 (Illustrious)\n",
    "\n",
    "### SD3\n",
    "\n",
    "- Stable Diffusion 3 Medium\n",
    "\n",
    "### SD3.5\n",
    "\n",
    "- Stable Diffusion 3.5 Large\n",
    "- Stable Diffusion 3.5 Medium\n",
    "\n",
    "### Flux\n",
    "\n",
    "- Flux.1 Dev (FP16)\n",
    "- Flux.1 Dev (FP8)"
   ]
  },
  {
   "cell_type": "markdown",
   "id": "e81c311f-7798-421b-b998-61a7b86a7f74",
   "metadata": {},
   "source": [
    "### Initialization (กด run อันนี้ก่อนเสมอ)"
   ]
  },
  {
   "cell_type": "code",
   "execution_count": null,
   "id": "02be4cc5-bec1-4096-a1c1-796e8310c247",
   "metadata": {
    "editable": false,
    "slideshow": {
     "slide_type": ""
    },
    "tags": []
   },
   "outputs": [],
   "source": [
    "from ui.main import *\n",
    "setup()"
   ]
  },
  {
   "cell_type": "markdown",
   "id": "aa4760e6-676b-4b54-941d-4fc2a2ec3802",
   "metadata": {},
   "source": [
    "### Download Dataset จาก Google Drive/Huggingface\n",
    "\n",
    "- แนะนำให้ upload ลง google drive ให้เป็นไฟล์ .zip"
   ]
  },
  {
   "cell_type": "code",
   "execution_count": null,
   "id": "1631bde6-d31e-4fea-89ad-908e58af7afe",
   "metadata": {
    "editable": false,
    "slideshow": {
     "slide_type": ""
    },
    "tags": []
   },
   "outputs": [],
   "source": [
    "download_dataset()"
   ]
  },
  {
   "cell_type": "markdown",
   "id": "7506d94b-1a60-40fc-a69a-0f872ce0925b",
   "metadata": {},
   "source": [
    "### เลือก Pretrained Model ที่ต้องการ Download (checkpoint)"
   ]
  },
  {
   "cell_type": "code",
   "execution_count": null,
   "id": "9712e3fd-c73d-4801-bdf3-568835d280dc",
   "metadata": {
    "editable": false,
    "slideshow": {
     "slide_type": ""
    },
    "tags": []
   },
   "outputs": [],
   "source": [
    "select_pretrained_model()"
   ]
  },
  {
   "cell_type": "markdown",
   "id": "aadf8924-b306-4672-91a3-69ff34b4b08b",
   "metadata": {},
   "source": [
    "### เลือก Clip, VAE (สำหรับ Flux และ SD3)"
   ]
  },
  {
   "cell_type": "code",
   "execution_count": null,
   "id": "0b5975e9-b821-4382-b1cc-e926dac69fb5",
   "metadata": {
    "editable": false,
    "slideshow": {
     "slide_type": ""
    },
    "tags": []
   },
   "outputs": [],
   "source": [
    "select_clip_vae_model()"
   ]
  },
  {
   "cell_type": "markdown",
   "id": "1bd1e982-619e-4c24-97f0-d6a00e4db339",
   "metadata": {},
   "source": [
    "### เริ่มโปรแกรม Kohya-SS GUI"
   ]
  },
  {
   "cell_type": "code",
   "execution_count": null,
   "id": "6f54ea47-5919-4de6-ba83-74fc33168655",
   "metadata": {
    "editable": false,
    "slideshow": {
     "slide_type": ""
    },
    "tags": []
   },
   "outputs": [],
   "source": [
    "launch_kohya_ss()"
   ]
  },
  {
   "cell_type": "markdown",
   "id": "5e124a90-2c36-4f12-9fa1-0e24c5bd8156",
   "metadata": {},
   "source": [
    "## หากพบปัญหาสามารถแจ้งได้ที่ \n",
    "\n",
    "facebook : https://www.facebook.com/chanrich.pisitjing/"
   ]
  }
 ],
 "metadata": {
  "kernelspec": {
   "display_name": "Python 3 (ipykernel)",
   "language": "python",
   "name": "python3"
  },
  "language_info": {
   "codemirror_mode": {
    "name": "ipython",
    "version": 3
   },
   "file_extension": ".py",
   "mimetype": "text/x-python",
   "name": "python",
   "nbconvert_exporter": "python",
   "pygments_lexer": "ipython3",
   "version": "3.11.11"
  }
 },
 "nbformat": 4,
 "nbformat_minor": 5
}
