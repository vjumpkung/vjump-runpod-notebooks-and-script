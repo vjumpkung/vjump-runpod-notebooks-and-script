{
 "cells": [
  {
   "attachments": {},
   "cell_type": "markdown",
   "id": "2c1f12f8-1613-4170-ba07-d7dcce05da8d",
   "metadata": {
    "editable": false,
    "slideshow": {
     "slide_type": ""
    },
    "tags": []
   },
   "source": [
    "# Musubi Tuner Runpod Template\n",
    "\n",
    "just experimental project from https://github.com/kohya-ss/musubi-tuner"
   ]
  },
  {
   "cell_type": "markdown",
   "id": "aa4760e6-676b-4b54-941d-4fc2a2ec3802",
   "metadata": {
    "editable": false,
    "slideshow": {
     "slide_type": ""
    },
    "tags": []
   },
   "source": [
    "### Download Dataset from Google Drive/Huggingface\n",
    "\n",
    "- Recommended upload from google drive or huggingface"
   ]
  },
  {
   "cell_type": "code",
   "execution_count": 5,
   "id": "742b2a40-ab5e-48aa-91ba-5a033b81a770",
   "metadata": {
    "editable": false,
    "slideshow": {
     "slide_type": ""
    },
    "tags": []
   },
   "outputs": [],
   "source": [
    "from ui.main import *"
   ]
  },
  {
   "cell_type": "code",
   "execution_count": null,
   "id": "1631bde6-d31e-4fea-89ad-908e58af7afe",
   "metadata": {
    "editable": false,
    "slideshow": {
     "slide_type": ""
    },
    "tags": []
   },
   "outputs": [],
   "source": [
    "download_dataset()"
   ]
  },
  {
   "cell_type": "markdown",
   "id": "7506d94b-1a60-40fc-a69a-0f872ce0925b",
   "metadata": {
    "editable": true,
    "slideshow": {
     "slide_type": ""
    },
    "tags": []
   },
   "source": [
    "### Download Pretrained Model"
   ]
  },
  {
   "cell_type": "code",
   "execution_count": null,
   "id": "43e81ab9-3d84-45dd-a4c1-831185d539e0",
   "metadata": {
    "editable": false,
    "slideshow": {
     "slide_type": ""
    },
    "tags": []
   },
   "outputs": [],
   "source": [
    "!bash ./download_flux_kontext_dev_fp8.sh"
   ]
  },
  {
   "cell_type": "code",
   "execution_count": null,
   "id": "b35c630b-b4ae-43f6-bf4c-4dd30278dcf6",
   "metadata": {
    "editable": false,
    "slideshow": {
     "slide_type": ""
    },
    "tags": []
   },
   "outputs": [],
   "source": [
    "!bash ./download_wan21_t2v_14B_fp8.sh"
   ]
  },
  {
   "cell_type": "code",
   "execution_count": null,
   "id": "487d5643-f00d-4990-8d0a-57b7f3198f91",
   "metadata": {
    "editable": false,
    "slideshow": {
     "slide_type": ""
    },
    "tags": []
   },
   "outputs": [],
   "source": [
    "!bash ./download_qwen_image_fp8.sh"
   ]
  },
  {
   "cell_type": "markdown",
   "id": "9d44824b-f329-405a-a245-09966f46f478",
   "metadata": {
    "editable": false,
    "slideshow": {
     "slide_type": ""
    },
    "tags": []
   },
   "source": [
    "### Usage\n",
    "\n",
    "1. Edit bash script file\n",
    "\n",
    "- flux_kontext_training_script.sh\n",
    "- wan21_training_script.sh\n",
    "\n",
    "2. Open Terminal and type command or run cell below\n",
    "\n",
    "`bash ./flux_kontext_training_script.sh` or `bash ./wan21_training_script.sh`"
   ]
  },
  {
   "cell_type": "code",
   "execution_count": null,
   "id": "5763e567-2b68-44b5-840b-7dd217d910e4",
   "metadata": {
    "editable": false,
    "slideshow": {
     "slide_type": ""
    },
    "tags": []
   },
   "outputs": [],
   "source": [
    "!bash ./flux_kontext_training_script.sh"
   ]
  },
  {
   "cell_type": "code",
   "execution_count": null,
   "id": "11afd294-6d58-4ad2-b034-8da9aa4417cc",
   "metadata": {
    "editable": false,
    "slideshow": {
     "slide_type": ""
    },
    "tags": []
   },
   "outputs": [],
   "source": [
    "!bash ./wan21_training_script.sh"
   ]
  },
  {
   "cell_type": "code",
   "execution_count": null,
   "id": "5028cb50-e652-4e61-b78c-bfb455043bc1",
   "metadata": {
    "editable": false,
    "slideshow": {
     "slide_type": ""
    },
    "tags": []
   },
   "outputs": [],
   "source": [
    "!bash ./qwen_image_training_script.sh"
   ]
  }
 ],
 "metadata": {
  "kernelspec": {
   "display_name": "Python 3 (ipykernel)",
   "language": "python",
   "name": "python3"
  },
  "language_info": {
   "codemirror_mode": {
    "name": "ipython",
    "version": 3
   },
   "file_extension": ".py",
   "mimetype": "text/x-python",
   "name": "python",
   "nbconvert_exporter": "python",
   "pygments_lexer": "ipython3",
   "version": "3.11.11"
  }
 },
 "nbformat": 4,
 "nbformat_minor": 5
}
