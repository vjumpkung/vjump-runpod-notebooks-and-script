{
 "cells": [
  {
   "cell_type": "markdown",
   "id": "94a3ef2c-78f7-4062-8c27-374885e0d39c",
   "metadata": {
    "editable": false,
    "slideshow": {
     "slide_type": ""
    },
    "tags": []
   },
   "source": [
    "# InvokeAI Runpod Template \n",
    "\n",
    "This runpod template is made for user who using Invoke Community Edition with Cloud GPU suitable for beginner who want to use Stable Diffusion\n",
    "\n",
    "Runpod Template นี้ทำขึ้นมาสำหรับการใช้งาน InvokeAI Community Edition สำหรับผู้ใช้ที่ต้องการ Cloud GPU เหมาะสำหรับมือใหม่ในการใช้ Stable Diffusion\n",
    "\n",
    "PORT 8888 สำหรับ Download Model ใหม่ (For Downloading Model)\n",
    "\n",
    "PORT 3001 สำหรับเข้าใช้งาน InvokeAI (For Using InvokeAI)\n",
    "\n",
    "## Known Limitations\n",
    "\n",
    "- InvokeAI Community Edition is suitable for local use only so there are no auto install model or auto detection model you have to copy path every time when you use this runpod template.\n",
    "\n",
    "## ข้อจำกัดที่พบเจอ \n",
    "\n",
    "- InvokeAI Community Edition เหมาะสำหรับการใช้งานบน local PC ซึ่งไม่มีการติดตั้ง model อัตโนมัติ หรือการตรวจสอบโมเดลตาม folder อัตโนมัติ ซึ่งต้องใช้การ scan folder ตาม path เท่านั้น และ ทำทุกๆ ครั้งที่สร้าง Pod ขึ้นมา\n",
    "\n",
    "## Changelogs\n",
    "\n",
    "### 20250510\n",
    "\n",
    "- Initial Release"
   ]
  },
  {
   "cell_type": "code",
   "execution_count": null,
   "id": "94a711f8-0a99-47ab-af66-5f503b0778ed",
   "metadata": {
    "editable": false,
    "slideshow": {
     "slide_type": ""
    },
    "tags": []
   },
   "outputs": [],
   "source": [
    "from main import *"
   ]
  },
  {
   "cell_type": "code",
   "execution_count": null,
   "id": "51ac2c29-33f3-4a2d-bf2a-c07bad610a40",
   "metadata": {
    "editable": false,
    "slideshow": {
     "slide_type": ""
    },
    "tags": []
   },
   "outputs": [],
   "source": [
    "setup()"
   ]
  },
  {
   "cell_type": "code",
   "execution_count": null,
   "id": "21eb4052-e2aa-4a79-b57b-d5dc3e162ad6",
   "metadata": {
    "editable": false,
    "slideshow": {
     "slide_type": ""
    },
    "tags": []
   },
   "outputs": [],
   "source": [
    "select_download_model_list()"
   ]
  },
  {
   "cell_type": "code",
   "execution_count": null,
   "id": "499814ae-271e-40e4-a38f-7fca8072d4f6",
   "metadata": {
    "editable": false,
    "slideshow": {
     "slide_type": ""
    },
    "tags": []
   },
   "outputs": [],
   "source": [
    "download_models()"
   ]
  },
  {
   "cell_type": "markdown",
   "id": "31b93da1-a8ef-4c75-9092-ce63aba5dbf2",
   "metadata": {
    "editable": false,
    "slideshow": {
     "slide_type": ""
    },
    "tags": []
   },
   "source": [
    "## Logging (For Debugging Error Advance User only) "
   ]
  },
  {
   "cell_type": "code",
   "execution_count": null,
   "id": "c47ab2a7-c245-40e0-abbe-9f46c0fd18a1",
   "metadata": {
    "editable": false,
    "slideshow": {
     "slide_type": ""
    },
    "tags": []
   },
   "outputs": [],
   "source": [
    "tail_log('./invokeai.log')"
   ]
  }
 ],
 "metadata": {
  "kernelspec": {
   "display_name": "Python 3 (ipykernel)",
   "language": "python",
   "name": "python3"
  },
  "language_info": {
   "codemirror_mode": {
    "name": "ipython",
    "version": 3
   },
   "file_extension": ".py",
   "mimetype": "text/x-python",
   "name": "python",
   "nbconvert_exporter": "python",
   "pygments_lexer": "ipython3",
   "version": "3.11.11"
  }
 },
 "nbformat": 4,
 "nbformat_minor": 5
}
